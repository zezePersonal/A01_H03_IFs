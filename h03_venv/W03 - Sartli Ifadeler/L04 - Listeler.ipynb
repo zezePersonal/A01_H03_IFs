{
 "cells": [
  {
   "cell_type": "markdown",
   "metadata": {},
   "source": [
    "### Listeler\n",
    "\n",
    "Veri Analizi uzerinde calisirken verilerimizi daha iyi bir sekilde organize edebilmek gerekir.\n",
    "Python bir cok veri tipine misafirlik eder, ornegin dict(), list(), tupple(), etc"
   ]
  },
  {
   "cell_type": "code",
   "execution_count": 7,
   "metadata": {},
   "outputs": [
    {
     "name": "stdout",
     "output_type": "stream",
     "text": [
      "maydonoz, nane, orkide, papatya\n",
      "<class 'str'>\n",
      "maydonoz, nane, orkide, papatya\n",
      "maydonoz\n"
     ]
    }
   ],
   "source": [
    "# cicek turu ornegi\n",
    "\n",
    "flowers = \"maydonoz, nane, orkide, papatya\"\n",
    "print(flowers)\n",
    "print(type(flowers))\n",
    "\n",
    "# bunu parcalamak istersek\n",
    "print(flowers[:])  # yazmazsan default 0\n",
    "print(flowers[0:8])   # bu sekilde zor\n",
    "\n",
    "# bu yuzden string tipindeki verilerden parca parca almak zor olur\n"
   ]
  },
  {
   "cell_type": "code",
   "execution_count": 8,
   "metadata": {},
   "outputs": [
    {
     "name": "stdout",
     "output_type": "stream",
     "text": [
      "['maydonoz', 'nane', 'orkide', 'papatya']\n",
      "maydonoz\n"
     ]
    }
   ],
   "source": [
    "flowers_list = [\"maydonoz\", \"nane\", \"orkide\", \"papatya\"]   # bu sekilde liste tanimlaniyor\n",
    "print(flowers_list)\n",
    "print(flowers_list[0])"
   ]
  },
  {
   "cell_type": "code",
   "execution_count": null,
   "metadata": {},
   "outputs": [],
   "source": [
    "# Liste Metodlari\n",
    "\n",
    "'''\n",
    "    - istedigimiz elemana rahatlikla ulasabiliriz\n",
    "    - listenin icerisinde kac tane veri var bunu ogrenebiliriz\n",
    "    - kolaylikla eleman ekleyip cikarabilirim\n",
    "'''"
   ]
  },
  {
   "cell_type": "code",
   "execution_count": 9,
   "metadata": {},
   "outputs": [
    {
     "name": "stdout",
     "output_type": "stream",
     "text": [
      "nane\n"
     ]
    }
   ],
   "source": [
    "print(flowers_list[1])"
   ]
  },
  {
   "cell_type": "code",
   "execution_count": 21,
   "metadata": {},
   "outputs": [
    {
     "name": "stdout",
     "output_type": "stream",
     "text": [
      "['maydonoz', 'nane', 'orkide', 'papatya']\n",
      "['orkide', 'papatya']\n"
     ]
    }
   ],
   "source": [
    "print(flowers_list[:])   # liste[baslangicIndex:bitisIndex]\n",
    "\n",
    "# son 2yi almak istersek\n",
    "\n",
    "print(flowers_list[2:])   # \n",
    "\n"
   ]
  },
  {
   "cell_type": "code",
   "execution_count": 33,
   "metadata": {},
   "outputs": [
    {
     "name": "stdout",
     "output_type": "stream",
     "text": [
      "[1, 2, 3]\n",
      "[7, 8, 9]\n"
     ]
    }
   ],
   "source": [
    "ornek_liste = [1,2,3,4,5,6,7,8,9]\n",
    "\n",
    "# positive ya da negative indeksleme (soldan saga mi, sagdan sola mi)\n",
    "\n",
    "print(ornek_liste[:3])  # positive indexing\n",
    "\n",
    "print(ornek_liste[-3:])  # negative indexing\n",
    "\n",
    "# buna dilimleme ya da slicing diyoruz"
   ]
  },
  {
   "cell_type": "code",
   "execution_count": 39,
   "metadata": {},
   "outputs": [
    {
     "name": "stdout",
     "output_type": "stream",
     "text": [
      "4\n",
      "<class 'int'>\n"
     ]
    }
   ],
   "source": [
    "# Bir listenin eleman uzunlugu index sayisinin bir eksigidir \n",
    "\n",
    "# len metodu, listenin eleman uzunlugunu vereir\n",
    "\n",
    "print(len(flowers_list))\n",
    "print(type(len(flowers_list)))"
   ]
  },
  {
   "cell_type": "code",
   "execution_count": 41,
   "metadata": {},
   "outputs": [],
   "source": [
    "# Hoca index uzunlugu diyerek, n-1 halini ile ornek verdi."
   ]
  },
  {
   "cell_type": "code",
   "execution_count": 42,
   "metadata": {},
   "outputs": [],
   "source": [
    "# Veri Ekleme\n",
    "\n",
    "flowers_list.append(\"roka\")   "
   ]
  },
  {
   "cell_type": "code",
   "execution_count": 43,
   "metadata": {},
   "outputs": [
    {
     "name": "stdout",
     "output_type": "stream",
     "text": [
      "['maydonoz', 'nane', 'orkide', 'papatya', 'roka']\n"
     ]
    }
   ],
   "source": [
    "print(flowers_list)  # roka eklendi"
   ]
  },
  {
   "cell_type": "code",
   "execution_count": 44,
   "metadata": {},
   "outputs": [],
   "source": [
    "# YANLIS KULLANIM\n",
    "# flower_list = flowers_list.append(\"roka\")   # circular reference\n"
   ]
  },
  {
   "cell_type": "code",
   "execution_count": 45,
   "metadata": {},
   "outputs": [],
   "source": [
    "# append metodu listenin en sonuna ekler\n",
    "# eger araya eklemek istersek append yerine insert\n",
    "\n",
    "flowers_list.insert(1, \"patlican\")  # ikinci eleman olarak ekledik"
   ]
  },
  {
   "cell_type": "code",
   "execution_count": 46,
   "metadata": {},
   "outputs": [
    {
     "name": "stdout",
     "output_type": "stream",
     "text": [
      "['maydonoz', 'patlican', 'nane', 'orkide', 'papatya', 'roka']\n"
     ]
    }
   ],
   "source": [
    "print(flowers_list)"
   ]
  },
  {
   "cell_type": "code",
   "execution_count": 47,
   "metadata": {},
   "outputs": [
    {
     "data": {
      "text/plain": [
       "'papatya'"
      ]
     },
     "execution_count": 47,
     "metadata": {},
     "output_type": "execute_result"
    }
   ],
   "source": [
    "# Veri kaldirma / silme\n",
    "\n",
    "flowers_list.pop(-2)  # sondan ikinciyi kaldiralim, papatya)"
   ]
  },
  {
   "cell_type": "code",
   "execution_count": 48,
   "metadata": {},
   "outputs": [
    {
     "name": "stdout",
     "output_type": "stream",
     "text": [
      "['maydonoz', 'patlican', 'nane', 'orkide', 'roka']\n"
     ]
    }
   ],
   "source": [
    "print(flowers_list)"
   ]
  },
  {
   "cell_type": "code",
   "execution_count": 49,
   "metadata": {},
   "outputs": [],
   "source": [
    "# Listeler yalnizca stringler icin degildir\n",
    "\n",
    "# arr vs list resmi @ evernote'da\n",
    "\n",
    "# 14:15 - 14:40\n"
   ]
  },
  {
   "cell_type": "code",
   "execution_count": 53,
   "metadata": {},
   "outputs": [
    {
     "name": "stdout",
     "output_type": "stream",
     "text": [
      "[139, 128, 172, 139, 191, 168, 170]\n",
      "<class 'list'>\n"
     ]
    }
   ],
   "source": [
    "'''\n",
    "    Ornek olarak 2000 yilinin Nisan ayinin ilk haftasina satilan kitap satis adetlerini liste icerisinde saklayalim\n",
    "'''\n",
    "\n",
    "kitap_satislari = [139, 128, 172, 139, 191, 168, 170]\n",
    "print(kitap_satislari)\n",
    "print(type(kitap_satislari))\n"
   ]
  },
  {
   "cell_type": "code",
   "execution_count": 55,
   "metadata": {},
   "outputs": [
    {
     "name": "stdout",
     "output_type": "stream",
     "text": [
      "Listenin eleman uzunlugu: 7\n"
     ]
    }
   ],
   "source": [
    "print(f\"Listenin eleman uzunlugu: {len(kitap_satislari)}\")"
   ]
  },
  {
   "cell_type": "code",
   "execution_count": 56,
   "metadata": {},
   "outputs": [
    {
     "name": "stdout",
     "output_type": "stream",
     "text": [
      "Sali gunu satilan kitap adedi 128\n"
     ]
    }
   ],
   "source": [
    "print(f\"Sali gunu satilan kitap adedi {kitap_satislari[1]} adettir.\")"
   ]
  },
  {
   "cell_type": "code",
   "execution_count": 58,
   "metadata": {},
   "outputs": [
    {
     "name": "stdout",
     "output_type": "stream",
     "text": [
      "Haftalik max satilan kitap adedi 191 dir \n"
     ]
    }
   ],
   "source": [
    "print(f\"Haftalik max satilan kitap adedi {max(kitap_satislari)} dir \")"
   ]
  },
  {
   "cell_type": "code",
   "execution_count": 59,
   "metadata": {},
   "outputs": [
    {
     "name": "stdout",
     "output_type": "stream",
     "text": [
      "Haftalik min satilan kitap adedi 128 dir \n"
     ]
    }
   ],
   "source": [
    "print(f\"Haftalik min satilan kitap adedi {min(kitap_satislari)} dir \")"
   ]
  },
  {
   "cell_type": "code",
   "execution_count": 72,
   "metadata": {},
   "outputs": [
    {
     "name": "stdout",
     "output_type": "stream",
     "text": [
      "Haftalik toplam satilan kitap adedi 1107 dir \n"
     ]
    }
   ],
   "source": [
    "print(f\"Haftalik toplam satilan kitap adedi {sum(kitap_satislari)} dir \")\n",
    "\n",
    "#sum()  # iterable ise hint'den bak dongu yapar listede, bu kisim onemli"
   ]
  },
  {
   "cell_type": "code",
   "execution_count": 71,
   "metadata": {},
   "outputs": [
    {
     "name": "stdout",
     "output_type": "stream",
     "text": [
      "153.8\n",
      "Requirement already satisfied: numpy in /workspaces/A01_H03_Functions/h03_venv/lib/python3.12/site-packages (2.2.2)\n",
      "\n",
      "\u001b[1m[\u001b[0m\u001b[34;49mnotice\u001b[0m\u001b[1;39;49m]\u001b[0m\u001b[39;49m A new release of pip is available: \u001b[0m\u001b[31;49m23.2.1\u001b[0m\u001b[39;49m -> \u001b[0m\u001b[32;49m25.0\u001b[0m\n",
      "\u001b[1m[\u001b[0m\u001b[34;49mnotice\u001b[0m\u001b[1;39;49m]\u001b[0m\u001b[39;49m To update, run: \u001b[0m\u001b[32;49mpip install --upgrade pip\u001b[0m\n",
      "Hafta ici satilan ortalama kitap adedi 153.8\n"
     ]
    }
   ],
   "source": [
    "## SADECE HAFTA ICI ORTALAMA KITAP SATISINI HESAPLAYALIM\n",
    "\n",
    "# Ortalama Kalitede Bir Uygulama\n",
    "print(sum(kitap_satislari[:5])/5)\n",
    "\n",
    "# aynisi icin Kaliteli Bir Uygulama\n",
    "hafta_ici_sayilan_kitapar = kitap_satislari[:5]\n",
    "\n",
    "# dir(hafta_ici_sayilan_kitapar)  # tum komut setini gosterir, yan bilgi\n",
    "\n",
    "!pip install numpy  # bu sekilde calistirabiliriz ya teminalde\n",
    "from numpy import mean\n",
    "\n",
    "hafta_ici_ort_satilan_kitaplar = mean(hafta_ici_sayilan_kitapar)\n",
    "\n",
    "\n",
    "print(f\"Hafta ici satilan ortalama kitap adedi {hafta_ici_ort_satilan_kitaplar}\")"
   ]
  },
  {
   "cell_type": "code",
   "execution_count": null,
   "metadata": {},
   "outputs": [],
   "source": []
  }
 ],
 "metadata": {
  "kernelspec": {
   "display_name": "h03_venv",
   "language": "python",
   "name": "python3"
  },
  "language_info": {
   "codemirror_mode": {
    "name": "ipython",
    "version": 3
   },
   "file_extension": ".py",
   "mimetype": "text/x-python",
   "name": "python",
   "nbconvert_exporter": "python",
   "pygments_lexer": "ipython3",
   "version": "3.12.1"
  }
 },
 "nbformat": 4,
 "nbformat_minor": 2
}
