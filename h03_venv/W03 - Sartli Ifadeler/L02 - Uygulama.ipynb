{
 "cells": [
  {
   "cell_type": "markdown",
   "metadata": {},
   "source": [
    "### IF Uygulamalari"
   ]
  },
  {
   "cell_type": "code",
   "execution_count": 2,
   "metadata": {},
   "outputs": [
    {
     "data": {
      "text/plain": [
       "'\\n\\nSoru 1\\n\\nNot uzerinden A..F arasi grade verme\\n\\nGrade A 90-100 Score 90\\nGrade B 80-89\\nGrade C 70-79\\nGrade D 60-60\\nGrade F\\n\\nornek 85 ve 49 icin\\n\\n'"
      ]
     },
     "execution_count": 2,
     "metadata": {},
     "output_type": "execute_result"
    }
   ],
   "source": [
    "'''\n",
    "\n",
    "Soru 1\n",
    "\n",
    "Not uzerinden A..F arasi grade verme\n",
    "\n",
    "Grade A 90-100 Score 90\n",
    "Grade B 80-89\n",
    "Grade C 70-79\n",
    "Grade D 60-60\n",
    "Grade F\n",
    "\n",
    "ornek 85 ve 49 icin\n",
    "\n",
    "'''"
   ]
  },
  {
   "cell_type": "markdown",
   "metadata": {},
   "source": []
  },
  {
   "cell_type": "code",
   "execution_count": 7,
   "metadata": {},
   "outputs": [],
   "source": [
    "def getGrade(score:int):\n",
    "    if score >= 90:\n",
    "        result = \"A\"\n",
    "    elif score >= 80:\n",
    "        result = \"B\"\n",
    "    elif score >= 70:\n",
    "        result = \"C\"\n",
    "    elif score >= 60:\n",
    "        result = \"D\"\n",
    "    else:\n",
    "        result = \"F\"\n",
    "    return result"
   ]
  },
  {
   "cell_type": "code",
   "execution_count": 9,
   "metadata": {},
   "outputs": [
    {
     "name": "stdout",
     "output_type": "stream",
     "text": [
      "B\n",
      "F\n"
     ]
    }
   ],
   "source": [
    "s1 = getGrade(85)\n",
    "print(s1)\n",
    "\n",
    "s2 = getGrade(49)\n",
    "print(s2)"
   ]
  },
  {
   "cell_type": "code",
   "execution_count": 14,
   "metadata": {},
   "outputs": [],
   "source": [
    "# and ile de yapabiliriz\n",
    "\n",
    "def getGrade2(score:int)->tuple:\n",
    "    if score >= 90 and score <= 100:\n",
    "        result = \"A\"\n",
    "    elif score >= 80 and score <= 89:\n",
    "        result = \"B\"\n",
    "    elif score >= 70 and score <= 79:\n",
    "        result = \"C\"\n",
    "    elif score >= 60 and score <= 69:\n",
    "        result = \"D\"\n",
    "    else:\n",
    "        result = \"F\"\n",
    "    return result, score"
   ]
  },
  {
   "cell_type": "code",
   "execution_count": 16,
   "metadata": {},
   "outputs": [
    {
     "name": "stdout",
     "output_type": "stream",
     "text": [
      "('B', 85)\n",
      "('F', 49)\n",
      "('F', 120)\n",
      "F\n",
      "49\n"
     ]
    }
   ],
   "source": [
    "s1 = getGrade2(85)\n",
    "print(s1)\n",
    "\n",
    "s2 = getGrade2(49)\n",
    "print(s2)\n",
    "\n",
    "s3 = getGrade2(120)  # zz: validation olmadigi icin else a duser\n",
    "print(s3)\n",
    "\n",
    "s3_grade, s3_score = getGrade2(49)  # bu sekilde de kullanim var, diger dillerden farkli olarak\n",
    "print(s3_grade)\n",
    "print(s3_score)"
   ]
  },
  {
   "cell_type": "code",
   "execution_count": null,
   "metadata": {},
   "outputs": [],
   "source": [
    "'''\n",
    "    Soru 2\n",
    "\n",
    "    Kuyumcu sorusu\n",
    "\n",
    "    Altin kaplama yuzuk baz fiyati 50 dolar, her harf 7 dolar\n",
    "    gercek altin yuzuk baz fiyati 100, her harf 10 dolar\n",
    "    parametreler = engraving, solidGold true false\n",
    "'''"
   ]
  },
  {
   "cell_type": "code",
   "execution_count": 27,
   "metadata": {},
   "outputs": [],
   "source": [
    "def costOfTheRing(solidGold:bool, engraving:str)->float:\n",
    "    if solidGold: \n",
    "        base = 100.\n",
    "        perLetterPrice = 10\n",
    "    else:\n",
    "        base = 50.\n",
    "        perLetterPrice = 7\n",
    "\n",
    "    \n",
    "    return base + len(engraving)*perLetterPrice"
   ]
  },
  {
   "cell_type": "code",
   "execution_count": 30,
   "metadata": {},
   "outputs": [
    {
     "name": "stdout",
     "output_type": "stream",
     "text": [
      "140.0\n",
      "85.0\n"
     ]
    }
   ],
   "source": [
    "c1 = costOfTheRing(True, 'Emre')\n",
    "print(c1)\n",
    "\n",
    "c2 = costOfTheRing(False, 'Zuhtu')\n",
    "print(c2)"
   ]
  },
  {
   "cell_type": "code",
   "execution_count": null,
   "metadata": {},
   "outputs": [],
   "source": [
    "'''\n",
    "    Bir yemegin kac kalori oldugunu hesaplayan fonksiyon tanimlayin\n",
    "    seker oranina gore 100 gr basina kalori hesaplayin\n",
    "\n",
    "    eger seker orani 100 gramda 5 gram ise 700 kalori olsun\n",
    "    15 gram ise 1400 kalori olsun\n",
    "'''"
   ]
  },
  {
   "cell_type": "code",
   "execution_count": 32,
   "metadata": {},
   "outputs": [
    {
     "name": "stdout",
     "output_type": "stream",
     "text": [
      "1400\n",
      "700\n"
     ]
    }
   ],
   "source": [
    "def calculateCalories(sugarAmount:float)->float:\n",
    "    if sugarAmount >= 15:\n",
    "        res = 1400\n",
    "    else:\n",
    "        res = 700\n",
    "\n",
    "    return res\n",
    "\n",
    "print(calculateCalories(20.))\n",
    "print(calculateCalories(12.2))"
   ]
  },
  {
   "cell_type": "code",
   "execution_count": null,
   "metadata": {},
   "outputs": [],
   "source": []
  }
 ],
 "metadata": {
  "kernelspec": {
   "display_name": "h03_venv",
   "language": "python",
   "name": "python3"
  },
  "language_info": {
   "codemirror_mode": {
    "name": "ipython",
    "version": 3
   },
   "file_extension": ".py",
   "mimetype": "text/x-python",
   "name": "python",
   "nbconvert_exporter": "python",
   "pygments_lexer": "ipython3",
   "version": "3.12.1"
  }
 },
 "nbformat": 4,
 "nbformat_minor": 2
}
