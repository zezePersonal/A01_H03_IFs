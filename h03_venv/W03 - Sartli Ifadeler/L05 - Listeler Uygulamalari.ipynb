{
 "cells": [
  {
   "cell_type": "markdown",
   "metadata": {},
   "source": [
    "### Listeler Uzerine Uygulama Ornekleri"
   ]
  },
  {
   "cell_type": "code",
   "execution_count": 1,
   "metadata": {},
   "outputs": [
    {
     "name": "stdout",
     "output_type": "stream",
     "text": [
      "test\n"
     ]
    }
   ],
   "source": [
    "'''\n",
    "    Ornek 1\n",
    "\n",
    "    Menude 5 yemek var, liste kullanilacak\n",
    "\n",
    "    fasulye corbasini kaldirma karari\n",
    "    kavrulmus coban salatasini ekleme karari\n",
    "\n",
    "    remove, append, pop, intend metodlari\n",
    "'''"
   ]
  },
  {
   "cell_type": "code",
   "execution_count": 2,
   "metadata": {},
   "outputs": [
    {
     "name": "stdout",
     "output_type": "stream",
     "text": [
      "['Fasulye Corbasi', 'Fajita', 'T-Bone Steak', 'Durum Doner', 'Hamburger']\n"
     ]
    }
   ],
   "source": [
    "theMenu = [\"Fasulye Corbasi\", \"Fajita\", \"T-Bone Steak\", \"Durum Doner\", \"Hamburger\"]\n",
    "print(theMenu)"
   ]
  },
  {
   "cell_type": "code",
   "execution_count": 3,
   "metadata": {},
   "outputs": [
    {
     "data": {
      "text/plain": [
       "'Fasulye Corbasi'"
      ]
     },
     "execution_count": 3,
     "metadata": {},
     "output_type": "execute_result"
    }
   ],
   "source": [
    "theMenu.pop(0)  # alternatif olarak remove() - biri indexli digeri degil"
   ]
  },
  {
   "cell_type": "code",
   "execution_count": 4,
   "metadata": {},
   "outputs": [
    {
     "name": "stdout",
     "output_type": "stream",
     "text": [
      "['Fajita', 'T-Bone Steak', 'Durum Doner', 'Hamburger']\n"
     ]
    }
   ],
   "source": [
    "print(theMenu)"
   ]
  },
  {
   "cell_type": "code",
   "execution_count": 5,
   "metadata": {},
   "outputs": [],
   "source": [
    "theMenu.append('Kavrulmus Coban Salatasi')  # alternatif olarak index() - biri indexli digeri degil"
   ]
  },
  {
   "cell_type": "code",
   "execution_count": 6,
   "metadata": {},
   "outputs": [
    {
     "name": "stdout",
     "output_type": "stream",
     "text": [
      "['Fajita', 'T-Bone Steak', 'Durum Doner', 'Hamburger', 'Kavrulmus Coban Salatasi']\n"
     ]
    }
   ],
   "source": [
    "print(theMenu)"
   ]
  },
  {
   "cell_type": "code",
   "execution_count": null,
   "metadata": {},
   "outputs": [],
   "source": [
    "'''\n",
    "    Ornek 2\n",
    "\n",
    "    numCustomers listesi son 1 ayda restaurantimizda her gun kac kisinin geldigini iceren bir liste\n",
    "\n",
    "    avgFirstSeven\n",
    "    avgLastSeven\n",
    "    maxMounth\n",
    "    minMounth\n",
    "\n",
    "'''"
   ]
  },
  {
   "cell_type": "code",
   "execution_count": 32,
   "metadata": {},
   "outputs": [],
   "source": [
    "numCustomers = [137, 147, 135, 128, 170, 174, 165, 146, 126, 159,\n",
    "                 141, 148, 132, 147, 168, 153, 170, 161, 148, 152,\n",
    "                 141, 151, 131, 149, 164, 163, 143, 143, 166, 171]"
   ]
  },
  {
   "cell_type": "code",
   "execution_count": 44,
   "metadata": {},
   "outputs": [],
   "source": [
    "from numpy import mean\n",
    "ilk_yedi_gun = numCustomers[:7]\n",
    "ortalama_ilk_yedi_gun = mean(ilk_yedi_gun)\n",
    "\n",
    "son_yedi_gun = numCustomers[-7:]\n",
    "ortalama_son_yedi_gun = mean(son_yedi_gun)\n",
    "\n",
    "en_fazla_gelen_musteri = max(numCustomers)\n",
    "en_az_gelen_musteri = min(numCustomers)\n",
    "\n"
   ]
  },
  {
   "cell_type": "code",
   "execution_count": 45,
   "metadata": {},
   "outputs": [
    {
     "name": "stdout",
     "output_type": "stream",
     "text": [
      "\n",
      "    Ilk hafta gelen ort. musteri sayisi 150.85714285714286\n",
      "    Son hafta gelen ort. musteri sayisi 157.0\n",
      "    En fazla gelen musteri sayisi 174\n",
      "    En az gelen musteri sayisi 126\n",
      "\n"
     ]
    }
   ],
   "source": [
    "print(f\"\"\"\n",
    "    Ilk hafta gelen ort. musteri sayisi {ortalama_ilk_yedi_gun}\n",
    "    Son hafta gelen ort. musteri sayisi {ortalama_son_yedi_gun}\n",
    "    En fazla gelen musteri sayisi {en_fazla_gelen_musteri}\n",
    "    En az gelen musteri sayisi {en_az_gelen_musteri}\n",
    "\"\"\")"
   ]
  },
  {
   "cell_type": "code",
   "execution_count": 85,
   "metadata": {},
   "outputs": [
    {
     "name": "stdout",
     "output_type": "stream",
     "text": [
      "<class 'int'>\n"
     ]
    },
    {
     "ename": "TypeError",
     "evalue": "'int' object is not callable",
     "output_type": "error",
     "traceback": [
      "\u001b[0;31m---------------------------------------------------------------------------\u001b[0m",
      "\u001b[0;31mTypeError\u001b[0m                                 Traceback (most recent call last)",
      "Cell \u001b[0;32mIn[85], line 6\u001b[0m\n\u001b[1;32m      4\u001b[0m i \u001b[38;5;241m=\u001b[39m x[\u001b[38;5;241m0\u001b[39m]\n\u001b[1;32m      5\u001b[0m i \u001b[38;5;241m=\u001b[39m i\u001b[38;5;241m+\u001b[39m\u001b[38;5;241m0\u001b[39m\n\u001b[0;32m----> 6\u001b[0m j \u001b[38;5;241m=\u001b[39m \u001b[38;5;28;43msum\u001b[39;49m\u001b[43m(\u001b[49m\u001b[43mi\u001b[49m\u001b[43m,\u001b[49m\u001b[38;5;241;43m1\u001b[39;49m\u001b[43m)\u001b[49m\n\u001b[1;32m      7\u001b[0m \u001b[38;5;66;03m#sum(x[0],0)\u001b[39;00m\n",
      "\u001b[0;31mTypeError\u001b[0m: 'int' object is not callable"
     ]
    }
   ],
   "source": [
    "x = [1,2,3]\n",
    "\n",
    "print(type(x[0]))\n",
    "i = x[0]\n",
    "i = i+0\n",
    "j = sum(i,1)\n",
    "#sum(x[0],0)"
   ]
  },
  {
   "cell_type": "code",
   "execution_count": null,
   "metadata": {},
   "outputs": [],
   "source": [
    "'''\n",
    "    Soru 3\n",
    "\n",
    "    Web sitesi ziyaretcisi\n",
    "'''"
   ]
  },
  {
   "cell_type": "code",
   "execution_count": 87,
   "metadata": {},
   "outputs": [
    {
     "name": "stdout",
     "output_type": "stream",
     "text": [
      "66.16\n"
     ]
    }
   ],
   "source": [
    "def percentageGrowth(numUsers:list, yearsAgo:int)->float:\n",
    "    activeYear = numUsers[-1:]\n",
    "    refereceYear = numUsers[-1-yearsAgo:-yearsAgo]\n",
    "    r = activeYear[0]/refereceYear[0]-1\n",
    "    return round(r*100,2)\n",
    "\n",
    "myList = [920344, 1043553, 1204334, 1458996, 1503323, 1593432, 1623463, 1843064, 1930992, 2001078]\n",
    "x = percentageGrowth(myList, 7)\n",
    "print(x)"
   ]
  },
  {
   "cell_type": "code",
   "execution_count": null,
   "metadata": {},
   "outputs": [],
   "source": []
  }
 ],
 "metadata": {
  "kernelspec": {
   "display_name": "h03_venv",
   "language": "python",
   "name": "python3"
  },
  "language_info": {
   "codemirror_mode": {
    "name": "ipython",
    "version": 3
   },
   "file_extension": ".py",
   "mimetype": "text/x-python",
   "name": "python",
   "nbconvert_exporter": "python",
   "pygments_lexer": "ipython3",
   "version": "3.12.1"
  }
 },
 "nbformat": 4,
 "nbformat_minor": 2
}
