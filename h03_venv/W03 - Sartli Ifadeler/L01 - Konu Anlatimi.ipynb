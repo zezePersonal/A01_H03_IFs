{
 "cells": [
  {
   "cell_type": "markdown",
   "metadata": {},
   "source": [
    "### Bu haftaki konumuz sartli ifadeler. IF Clauses..."
   ]
  },
  {
   "cell_type": "code",
   "execution_count": 2,
   "metadata": {},
   "outputs": [
    {
     "name": "stdout",
     "output_type": "stream",
     "text": [
      "TEST\n"
     ]
    }
   ],
   "source": [
    "'''\n",
    "    Python'da sartli ifadeler bize arka planda true, false ifade dondurur. Mesala iki sayinin buyukluk kucuklugu kiyaslayarak bakalim\n",
    "'''"
   ]
  },
  {
   "cell_type": "code",
   "execution_count": 5,
   "metadata": {},
   "outputs": [
    {
     "name": "stdout",
     "output_type": "stream",
     "text": [
      "False\n"
     ]
    }
   ],
   "source": [
    "print(2 > 3)  # Yukarida direkt 2 ve 3 degerini kullandik, degisken olsa daha guzel olur."
   ]
  },
  {
   "cell_type": "code",
   "execution_count": 6,
   "metadata": {},
   "outputs": [
    {
     "name": "stdout",
     "output_type": "stream",
     "text": [
      "False\n"
     ]
    }
   ],
   "source": [
    "n1 = 2\n",
    "n2 = 3\n",
    "print(n1>n2)"
   ]
  },
  {
   "cell_type": "code",
   "execution_count": null,
   "metadata": {},
   "outputs": [],
   "source": [
    "'''\n",
    " >\n",
    " <\n",
    " >= \n",
    " <= \n",
    " ==\n",
    " != \n",
    "\n",
    " ifadeleri\n",
    "'''"
   ]
  },
  {
   "cell_type": "code",
   "execution_count": null,
   "metadata": {},
   "outputs": [],
   "source": [
    "'''\n",
    "    if ifadeleri ile kosullar yaziyoruz\n",
    "    ie Bir havanin sicaklik durumuna gore bilgi yazdiran bir fonksiyon icerisinde bunu inceleyelim\n",
    "'''"
   ]
  },
  {
   "cell_type": "code",
   "execution_count": 10,
   "metadata": {},
   "outputs": [],
   "source": [
    "def howIsTheWeather(temperature: float):\n",
    "    '''\n",
    "        Sicakliga gore mesaj donduren fonksiyondur.\n",
    "        temperature: Hava Sicakligi\n",
    "    '''\n",
    "    msg = \"Normal hava\"\n",
    "    if temperature > 38.0:\n",
    "        msg = \"Cook sicak hava\"\n",
    "\n",
    "    return msg"
   ]
  },
  {
   "cell_type": "code",
   "execution_count": 12,
   "metadata": {},
   "outputs": [
    {
     "name": "stdout",
     "output_type": "stream",
     "text": [
      "Normal hava\n",
      "Cook sicak hava\n"
     ]
    }
   ],
   "source": [
    "r = howIsTheWeather(30.)\n",
    "print(r)\n",
    "\n",
    "r = howIsTheWeather(40.)\n",
    "print(r)"
   ]
  },
  {
   "cell_type": "code",
   "execution_count": null,
   "metadata": {},
   "outputs": [],
   "source": [
    "'''\n",
    "    if else ifadeleri\n",
    "\n",
    "    eger isternise if'den sonra else keywordu kullanilabilir\n",
    "    else'den sonra herhangi bir ayni durumu baglayan baska herhangi bir sart olusturulmaz \n",
    "'''"
   ]
  },
  {
   "cell_type": "code",
   "execution_count": 14,
   "metadata": {},
   "outputs": [],
   "source": [
    "def howIsTheWeather2(temperature: float):\n",
    "    '''\n",
    "        Sicakliga gore mesaj donduren fonksiyondur. if else geldi\n",
    "        temperature: Hava Sicakligi\n",
    "    '''\n",
    "    if temperature > 38.0:\n",
    "        msg = \"Cook sicak hava\"\n",
    "    else:\n",
    "        msg = \"Normal hava\"\n",
    "\n",
    "\n",
    "    return msg"
   ]
  },
  {
   "cell_type": "code",
   "execution_count": 16,
   "metadata": {},
   "outputs": [
    {
     "name": "stdout",
     "output_type": "stream",
     "text": [
      "Normal hava\n",
      "Cook sicak hava\n"
     ]
    }
   ],
   "source": [
    "r = howIsTheWeather2(17.3)\n",
    "print(r)\n",
    "\n",
    "r = howIsTheWeather2(47.3)\n",
    "print(r)"
   ]
  },
  {
   "cell_type": "code",
   "execution_count": null,
   "metadata": {},
   "outputs": [],
   "source": [
    "'''\n",
    "    if elif else\n",
    "\n",
    "    eger 2den fazla sartli ifademiz varsa bunun elif kullanarak arttirabiliriz, bunun faydaasi daha kompleks isler yapilabilir\n",
    "\n",
    "    temp > 38 yuksek\n",
    "    elseif > 36 normal\n",
    "    else soguk gibi\n",
    "'''"
   ]
  },
  {
   "cell_type": "code",
   "execution_count": 18,
   "metadata": {},
   "outputs": [],
   "source": [
    "def howIsTheWeather3(temperature: float):\n",
    "    '''\n",
    "        Sicakliga gore mesaj donduren fonksiyondur. if else geldi\n",
    "        temperature: Hava Sicakligi\n",
    "    '''\n",
    "    if temperature > 38.0:\n",
    "        msg = \"Cook sicak hava\"\n",
    "    elif temperature > 36.0:\n",
    "        msg = \"Normal hava\"\n",
    "    else:\n",
    "        msg = \"Garip hava\"\n",
    "\n",
    "\n",
    "    return msg"
   ]
  },
  {
   "cell_type": "code",
   "execution_count": 20,
   "metadata": {},
   "outputs": [
    {
     "name": "stdout",
     "output_type": "stream",
     "text": [
      "Cook sicak hava\n",
      "Normal hava\n",
      "Garip hava\n"
     ]
    }
   ],
   "source": [
    "r = howIsTheWeather3(47.3)\n",
    "print(r)\n",
    "\n",
    "r = howIsTheWeather3(37.3)\n",
    "print(r)\n",
    "\n",
    "r = howIsTheWeather3(17.3)\n",
    "print(r)\n"
   ]
  },
  {
   "cell_type": "code",
   "execution_count": null,
   "metadata": {},
   "outputs": [],
   "source": [
    "# Mola 14:00-14:20\n",
    "\n",
    "# mola oncesi soru\n",
    "# hesaplama ornegi sorusu\n",
    "# inputlara gore farkli aksiyonlari almayi ogrendik simdi sartli ifadeler ile farkli hesaplamalar yapalim\n",
    "# \n",
    "# bu ornekte ulkeden yasayanlarin yillik kazanci 12k dan az ise %25, ustu ise %30 vergi kesilsin"
   ]
  },
  {
   "cell_type": "code",
   "execution_count": 24,
   "metadata": {},
   "outputs": [
    {
     "name": "stdout",
     "output_type": "stream",
     "text": [
      "10500.0\n",
      "7500.0\n"
     ]
    }
   ],
   "source": [
    "def cutTaxes(salary: float):\n",
    "    if salary>12000:\n",
    "        taxRate = 0.30\n",
    "    else:\n",
    "        taxRate = 0.25\n",
    "\n",
    "    return salary*(1-taxRate)\n",
    "\n",
    "s1 = 15000.\n",
    "print(cutTaxes(s1))\n",
    "\n",
    "s2 = 10000.\n",
    "print(cutTaxes(s2))\n",
    "\n",
    "# Hoca vergiyi hesapladi, ben net maasi"
   ]
  },
  {
   "cell_type": "code",
   "execution_count": 25,
   "metadata": {},
   "outputs": [
    {
     "data": {
      "text/plain": [
       "'\\n    Ornek 2\\n\\n    Coklu if elif else ornegi kullanarak bir uygulama yapalim\\n\\n    \\n'"
      ]
     },
     "execution_count": 25,
     "metadata": {},
     "output_type": "execute_result"
    }
   ],
   "source": [
    "'''\n",
    "    Ornek 2\n",
    "\n",
    "    Coklu if elif else ornegi kullanarak bir uygulama yapalim\n",
    "\n",
    "    Bir ilacin agirligina gore kac mg doz ilac verilmesi gerekiyor, salcogen ilac ornegi\n",
    "    \n",
    "'''"
   ]
  },
  {
   "cell_type": "code",
   "execution_count": null,
   "metadata": {},
   "outputs": [],
   "source": [
    "def getDosage(weight: float):\n",
    "    '''\n",
    "        Gram basina kac mg ilac verilmesini hesaplayan fonksiyon\n",
    "        weight: Bir ilacin kg cinsinden agirligi\n",
    "\n",
    "        5.2kg alti icin 1.25 mg doz verilmesi gerekiyor... vs\n",
    "    '''\n",
    "    if weight<5.2:\n",
    "        dosage = 1.25\n",
    "    elif weight<7.9:\n",
    "        dosage = 2.5\n",
    "    elif weight<10.4:\n",
    "        dosage = 3.75\n",
    "    elif weight<15.9:\n",
    "        dosage = 5.0\n",
    "    elif weight<21.2:\n",
    "        dosage = 7.5\n",
    "    else:  # 21.2 kg ustu her ilac icin sabit olarak 10 mg doz verilmesi uygundur\n",
    "        dosage = 10.0\n",
    "\n",
    "        \n",
    "    return dosage\n"
   ]
  },
  {
   "cell_type": "code",
   "execution_count": 33,
   "metadata": {},
   "outputs": [
    {
     "name": "stdout",
     "output_type": "stream",
     "text": [
      "7.5\n",
      "10.0\n",
      "5.0\n"
     ]
    }
   ],
   "source": [
    "d1 = getDosage(20.50)\n",
    "print(d1)\n",
    "\n",
    "d2 = getDosage(24.)\n",
    "print(d2)\n",
    "\n",
    "d3 = getDosage(11.)\n",
    "print(d3)\n",
    "\n",
    "# Hoca f formatli metin ile yaziyor"
   ]
  },
  {
   "cell_type": "code",
   "execution_count": null,
   "metadata": {},
   "outputs": [],
   "source": []
  },
  {
   "cell_type": "code",
   "execution_count": null,
   "metadata": {},
   "outputs": [],
   "source": []
  }
 ],
 "metadata": {
  "kernelspec": {
   "display_name": "h03_venv",
   "language": "python",
   "name": "python3"
  },
  "language_info": {
   "codemirror_mode": {
    "name": "ipython",
    "version": 3
   },
   "file_extension": ".py",
   "mimetype": "text/x-python",
   "name": "python",
   "nbconvert_exporter": "python",
   "pygments_lexer": "ipython3",
   "version": "3.12.1"
  }
 },
 "nbformat": 4,
 "nbformat_minor": 2
}
