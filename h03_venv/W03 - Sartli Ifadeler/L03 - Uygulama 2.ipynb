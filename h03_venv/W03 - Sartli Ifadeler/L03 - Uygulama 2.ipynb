{
 "cells": [
  {
   "cell_type": "markdown",
   "metadata": {},
   "source": [
    "Dunden soru uygulamalarina devam ediyoruz"
   ]
  },
  {
   "cell_type": "code",
   "execution_count": 1,
   "metadata": {},
   "outputs": [
    {
     "name": "stdout",
     "output_type": "stream",
     "text": [
      "test\n"
     ]
    }
   ],
   "source": [
    "print('test')"
   ]
  },
  {
   "cell_type": "code",
   "execution_count": null,
   "metadata": {},
   "outputs": [],
   "source": [
    "'''\n",
    "\n",
    "Su Tuketim Fatura Ornegi, fiyat tablosu asagida\n",
    "\n",
    "Tier0 0-8000 lt   $5\n",
    "Tier1 8001-22000 lt $6\n",
    "Tier 2 22001-30000lt $7\n",
    "Tier 4 30001+  $10\n",
    "'''"
   ]
  },
  {
   "cell_type": "code",
   "execution_count": 8,
   "metadata": {},
   "outputs": [
    {
     "name": "stdout",
     "output_type": "stream",
     "text": [
      "8001 tuketime $48.006 fatura geldi.\n"
     ]
    }
   ],
   "source": [
    "def calculateWaterBill(consumption:float)->float:\n",
    "    '''\n",
    "        Kullanaicinin aylik tukettigi su miktarina gore fatura tutari hesaplar.\n",
    "    '''\n",
    "    if consumption >= 30001:\n",
    "        p = 10.\n",
    "    elif consumption >= 22001:\n",
    "        p = 7.\n",
    "    elif consumption >= 8001:\n",
    "        p = 6.\n",
    "    else:\n",
    "        p = 5.\n",
    "    return p * consumption / 1000\n",
    "\n",
    "c1 = 8001\n",
    "x = calculateWaterBill(c1)\n",
    "print(f\"{c1} tuketime ${x} fatura geldi.\")"
   ]
  },
  {
   "cell_type": "code",
   "execution_count": null,
   "metadata": {},
   "outputs": [],
   "source": [
    "# Soru 2\n",
    "'''\n",
    "    Internet veri sorusu\n",
    "\n",
    "    base $ 100 (15GB included)\n",
    "    her 100 MB icin $1\n",
    "    15.1GB $110 olmali\n",
    "'''"
   ]
  },
  {
   "cell_type": "code",
   "execution_count": 13,
   "metadata": {},
   "outputs": [
    {
     "name": "stdout",
     "output_type": "stream",
     "text": [
      "15.1 tuketime $110.0 fatura geldi.\n"
     ]
    }
   ],
   "source": [
    "def calculateInternetBill(dataConsumption:float)->float:\n",
    "    '''\n",
    "        Kullanaicinin aylik tukettigi data miktarina gore fatura tutari hesaplar.\n",
    "    '''\n",
    "    base = 100.\n",
    "    if dataConsumption <= 15:\n",
    "        p = base\n",
    "    else:\n",
    "        p = base+(dataConsumption-15)*100.\n",
    "    return round(p,2)\n",
    "\n",
    "c1 = 15.1\n",
    "x = calculateInternetBill(c1)\n",
    "print(f\"{c1} tuketime ${x} fatura geldi.\")"
   ]
  },
  {
   "cell_type": "code",
   "execution_count": null,
   "metadata": {},
   "outputs": [],
   "source": [
    "# Sartli ifadeler icin uygulamalar bitit. Yeni konu listeler."
   ]
  }
 ],
 "metadata": {
  "kernelspec": {
   "display_name": "h03_venv",
   "language": "python",
   "name": "python3"
  },
  "language_info": {
   "codemirror_mode": {
    "name": "ipython",
    "version": 3
   },
   "file_extension": ".py",
   "mimetype": "text/x-python",
   "name": "python",
   "nbconvert_exporter": "python",
   "pygments_lexer": "ipython3",
   "version": "3.12.1"
  }
 },
 "nbformat": 4,
 "nbformat_minor": 2
}
